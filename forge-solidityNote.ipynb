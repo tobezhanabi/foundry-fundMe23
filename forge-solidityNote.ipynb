{
 "cells": [
  {
   "cell_type": "markdown",
   "metadata": {},
   "source": [
    "THIS IS HOW YOU USE JUPYTER NOTE\n",
    "# Learning to Code\n",
    "\n",
    "## Introduction to Python\n",
    "- [Notebook 1](./Introduction_to_Python/notebook1.ipynb)\n",
    "- [Notebook 2](./Introduction_to_Python/notebook2.ipynb)\n",
    "\n",
    "## Data Analysis\n",
    "- [Notebook 1](./Data_Analysis/notebook1.ipynb)\n",
    "- [Notebook 2](./Data_Analysis/notebook2.ipynb)\n"
   ]
  },
  {
   "cell_type": "markdown",
   "metadata": {},
   "source": [
    "### There are four testing types\n",
    "1. unit - testing a specific part of our cold\n",
    "2. Integration - testing how our code works with other part of the code\n",
    "3. Forked - Testing our code on a simulated real environment\n",
    "4. Staging - testing our code in a real environment that is npt production"
   ]
  },
  {
   "cell_type": "markdown",
   "metadata": {},
   "source": [
    "## GAS opt\n",
    "storage is a gentle list that keep variable as HEX. This is one way to opt gas. \n",
    "constant and immutable variable are not stored in the storage. \n",
    "variable in function don't get stored in the storage slot."
   ]
  }
 ],
 "metadata": {
  "language_info": {
   "name": "python"
  },
  "orig_nbformat": 4
 },
 "nbformat": 4,
 "nbformat_minor": 2
}
